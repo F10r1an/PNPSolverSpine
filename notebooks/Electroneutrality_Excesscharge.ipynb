{
 "cells": [
  {
   "cell_type": "code",
   "execution_count": 1,
   "metadata": {},
   "outputs": [],
   "source": [
    "import numpy as np\n",
    "import pickle\n",
    "import copy\n",
    "import pandas as pd\n",
    "from importlib import reload\n",
    "\n",
    "\n",
    "import matplotlib.pyplot as plt\n",
    "from matplotlib import rc\n",
    "#rc('font',**{'family':'sans-serif','sans-serif':['Helvetica']})\n",
    "## for Palatino and other serif fonts use:\n",
    "rc('font',**{'family':'serif','serif':['Palatino']})\n",
    "rc('text', usetex=False)\n",
    "import matplotlib.image as mpimg\n",
    "import matplotlib.lines as mlines\n",
    "\n",
    "from sys import path\n",
    "path.append('./../')\n",
    "import src as pnp"
   ]
  },
  {
   "cell_type": "markdown",
   "metadata": {},
   "source": [
    "Helmholtz schrieb zum Durchmesser der Schicht: „Kohlrausch’s Untersuchungen über die Capicität von Platinflächen bei der Electrolyse des Wassers ergeben den mittlern Abstand solcher Schichten gleich dem 2 475 000sten Theil eines Millimeters, wenn man die Polarisation auf beide Platten gleichmässig vertheilt annimmt“. Dies ist ein Abstand d von 0,40 nm. Das stimmt recht gut mit typischen Ionenradien überein, z. B. 0,17 nm für Chlorid, 0,18 nm für Bromid. Der effektive Durchmesser des Sulfations wird mit 0,40 nm angegeben, der des hydratisierten Natriumions Na+ mit 0,45 nm.[6]\n",
    "\n",
    "Die Radien der meisten einfachen Ionen liegen im Bereich von 0,1 nm bis 1 nm, selbst dann, wenn sie hydratisiert sind.[6] Damit erwartet man auch, dass der Abstand zwischen Elektrode und Helmholtzebene im Bereich von 0,1 nm bis 1 nm liegt. Elektrochemische Spannungen können wegen der Zersetzungsspannung des jeweiligen Elektrolyts, die für Wasser 1,23 V beträgt, wenige Volt nicht überschreiten. Mit einer Spannung von 0,1 V bis 1 V ergeben sich deswegen elektrische Feldstärken im Bereich von 108 bis 1010 V/m. Diese Werte liegen oberhalb der Durchschlagsfestigkeit vieler Materialien, z. B. beträgt die von Glas nur 107 V/m, die von Wasser 7 107 V/m. Das bedeutet, dass aus makroskopischen Experimenten erhaltene Werte der Durchschlagfestigkeit auf atomarer Skala nicht ohne weiteres angewendet werden können. Die hier auftretenden Spannungen sind aufgrund der kleinen Abstände klein. \n",
    "(https://de.wikipedia.org/wiki/Helmholtzschicht, Jul., 18 2022)"
   ]
  },
  {
   "cell_type": "code",
   "execution_count": 41,
   "metadata": {},
   "outputs": [
    {
     "data": {
      "image/png": "[encoded data removed]",
      "text/plain": [
       "<Figure size 432x288 with 1 Axes>"
      ]
     },
     "metadata": {
      "needs_background": "light"
     },
     "output_type": "display_data"
    }
   ],
   "source": [
    "def helmholtz_model_potential(fig, pos):\n",
    "    \n",
    "    ax = fig.add_axes(pos)\n",
    "    ymin, ymax = 0., 1.\n",
    "    xmin, xmax = -6., 6.\n",
    "    \n",
    "    # membrane\n",
    "    mhd = 2.5 # half diameter of cell membrane\n",
    "    ax.fill_between([-mhd, mhd],[ymin, ymin],[ymax, ymax], color='lightgray',) \n",
    "    \n",
    "    \n",
    "    # helmholtzdouble layers\n",
    "    hd = 1.\n",
    "    # intracellular excess charge\n",
    "    ax.fill_between([-mhd-hd, -mhd],[ymin, ymin],[ymax, ymax], color='orange',) \n",
    "    \n",
    "    # extracellular excess charge\n",
    "    ax.fill_between([mhd, mhd+hd],[ymin, ymin],[ymax, ymax], color='orange',) \n",
    "    \n",
    "    # intracellular membrane charge\n",
    "    ax.plot([-mhd, -mhd], [ymin, ymax], color='k', lw=2.)\n",
    "    \n",
    "    # exctracellular membrane charge\n",
    "    ax.plot([mhd, mhd], [ymin, ymax], color='k', lw=2.)\n",
    "    \n",
    "    # potential\n",
    "    ax.plot([xmin,-mhd-hd],[0.6, 0.6], c='k')\n",
    "    ax.plot([-mhd-hd,-mhd],[0.6, 0.55], c='k')\n",
    "    ax.plot([-mhd,mhd],[0.55, 0.73], c='k')\n",
    "    ax.plot([mhd,mhd+hd],[0.73, 0.78], c='k')\n",
    "    ax.plot([mhd+hd,xmax],[0.78, 0.78], c='k')#\n",
    "    \n",
    "    ax.fill_between([xmin,-mhd-hd],[0.1, 0.1],[0.2, 0.2], facecolor='k', alpha=0.2)\n",
    "    ax.fill_between([-mhd-hd,-mhd],[0.1, 0.1],[0.3, 0.3], facecolor='k', alpha=0.2)\n",
    "    ax.plot([xmin,xmax],[0.1, 0.1],[0.1, 0.1], c='k')\n",
    "    ax.fill_between([mhd,mhd+hd],[0.1, 0.1],[0.3, 0.3], facecolor='k', alpha=0.2)\n",
    "    ax.fill_between([mhd+hd,xmax],[0.1, 0.1],[0.2, 0.2], facecolor='k', alpha=0.2)\n",
    "    \n",
    "    ax.set_xlim((xmin, xmax))\n",
    "    ax.text( -4.5, 0.9,'intracellular', ha='center')\n",
    "    ax.text( 4.5, 0.9,'extracellular', ha='center', )\n",
    "\n",
    "\n",
    "fig = plt.figure()\n",
    "pos1 = [0.1, 0.1, 0.8, 0.8]\n",
    "helmholtz_model_potential(fig, pos1)\n",
    "plt.show()\n",
    "    "
   ]
  },
  {
   "cell_type": "code",
   "execution_count": null,
   "metadata": {},
   "outputs": [],
   "source": []
  }
 ],
 "metadata": {
  "kernelspec": {
   "display_name": "Python 3",
   "language": "python",
   "name": "python3"
  },
  "language_info": {
   "codemirror_mode": {
    "name": "ipython",
    "version": 3
   },
   "file_extension": ".py",
   "mimetype": "text/x-python",
   "name": "python",
   "nbconvert_exporter": "python",
   "pygments_lexer": "ipython3",
   "version": "3.7.6"
  }
 },
 "nbformat": 4,
 "nbformat_minor": 4
}
